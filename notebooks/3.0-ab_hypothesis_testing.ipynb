{
  "cells": [
    {
      "cell_type": "markdown",
      "metadata": {
        "id": "eTg-u2ZreI3p"
      },
      "source": [
        "# <center><font color = '#DF9166' size = 20 center> **AB Hypothesis Testing**</font></center>\n",
        "\n"
      ]
    },
    {
      "cell_type": "markdown",
      "metadata": {
        "id": "uKoXPbk_eMbe"
      },
      "source": [
        "\n",
        "## <font color = '#DF9166' size=6>**Table of content**<font/><a class = 'anchor' id = 'introduction'/>"
      ]
    },
    {
      "cell_type": "markdown",
      "metadata": {
        "id": "B81Qqee7eGea"
      },
      "source": [
        "1. [**Import Libraries**](#import)\n",
        "2. [**Data Loading**](#data_loading)\n",
        "3. [**Class Initialization**](#class_initialization)\n",
        "4. [**Province Risk Difference Analysis**](#province_analysis)\n",
        "5. [**Gender Risk Difference Analysis**](#gender_analysis)\n",
        "6. [**Client Analysis**](#client_analysis)\n",
        "7. [**Region Analysis**](#region_analysis)\n",
        "8. [**Policy Analysis**](#policy_analysis)\n",
        "9. [**Trend Analysis**](#trend_analysis)"
      ]
    },
    {
      "cell_type": "markdown",
      "metadata": {
        "id": "_RkwgtESeUG0"
      },
      "source": [
        "## <font color = '#DF9166' size=6>**Import Libraries**<font/><a class = 'anchor' id = 'import'/>\n"
      ]
    },
    {
      "cell_type": "code",
      "execution_count": 2,
      "metadata": {},
      "outputs": [],
      "source": [
        "import sys\n",
        "import os\n",
        "sys.path.append(os.path.abspath(os.path.pardir))"
      ]
    },
    {
      "cell_type": "code",
      "execution_count": 14,
      "metadata": {},
      "outputs": [],
      "source": [
        "import pandas as pd"
      ]
    },
    {
      "cell_type": "code",
      "execution_count": 15,
      "metadata": {
        "id": "0sCONDQtbR-u"
      },
      "outputs": [],
      "source": [
        "from src.test_hypothesis import ABHypothesisTester"
      ]
    },
    {
      "cell_type": "code",
      "execution_count": 16,
      "metadata": {
        "id": "EPsSfEzvecfS"
      },
      "outputs": [],
      "source": [
        "pd.set_option(\"display.max_colwidth\", None)\n",
        "pd.set_option('display.max_columns', None)"
      ]
    },
    {
      "cell_type": "markdown",
      "metadata": {
        "id": "5pPVb9_EiP9D"
      },
      "source": [
        "## <font color = '#DF9166' size=6>**Data Loading**<font/><a class = 'anchor' id = 'data_loading'/>"
      ]
    },
    {
      "cell_type": "code",
      "execution_count": 32,
      "metadata": {},
      "outputs": [],
      "source": [
        "DATA_PATH = '../data/raw/MachineLearningRating_v3.txt'\n",
        "# DATA_PATH = '../data/processed/processed_data.csv'"
      ]
    },
    {
      "cell_type": "code",
      "execution_count": 34,
      "metadata": {},
      "outputs": [
        {
          "data": {
            "text/html": [
              "<div>\n",
              "<style scoped>\n",
              "    .dataframe tbody tr th:only-of-type {\n",
              "        vertical-align: middle;\n",
              "    }\n",
              "\n",
              "    .dataframe tbody tr th {\n",
              "        vertical-align: top;\n",
              "    }\n",
              "\n",
              "    .dataframe thead th {\n",
              "        text-align: right;\n",
              "    }\n",
              "</style>\n",
              "<table border=\"1\" class=\"dataframe\">\n",
              "  <thead>\n",
              "    <tr style=\"text-align: right;\">\n",
              "      <th></th>\n",
              "      <th>UnderwrittenCoverID</th>\n",
              "      <th>PolicyID</th>\n",
              "      <th>TransactionMonth</th>\n",
              "      <th>IsVATRegistered</th>\n",
              "      <th>Citizenship</th>\n",
              "      <th>LegalType</th>\n",
              "      <th>Title</th>\n",
              "      <th>Language</th>\n",
              "      <th>Bank</th>\n",
              "      <th>AccountType</th>\n",
              "      <th>MaritalStatus</th>\n",
              "      <th>Gender</th>\n",
              "      <th>Country</th>\n",
              "      <th>Province</th>\n",
              "      <th>PostalCode</th>\n",
              "      <th>MainCrestaZone</th>\n",
              "      <th>SubCrestaZone</th>\n",
              "      <th>ItemType</th>\n",
              "      <th>mmcode</th>\n",
              "      <th>VehicleType</th>\n",
              "      <th>RegistrationYear</th>\n",
              "      <th>make</th>\n",
              "      <th>Model</th>\n",
              "      <th>Cylinders</th>\n",
              "      <th>cubiccapacity</th>\n",
              "      <th>kilowatts</th>\n",
              "      <th>bodytype</th>\n",
              "      <th>NumberOfDoors</th>\n",
              "      <th>VehicleIntroDate</th>\n",
              "      <th>CustomValueEstimate</th>\n",
              "      <th>AlarmImmobiliser</th>\n",
              "      <th>TrackingDevice</th>\n",
              "      <th>CapitalOutstanding</th>\n",
              "      <th>NewVehicle</th>\n",
              "      <th>WrittenOff</th>\n",
              "      <th>Rebuilt</th>\n",
              "      <th>Converted</th>\n",
              "      <th>CrossBorder</th>\n",
              "      <th>NumberOfVehiclesInFleet</th>\n",
              "      <th>SumInsured</th>\n",
              "      <th>TermFrequency</th>\n",
              "      <th>CalculatedPremiumPerTerm</th>\n",
              "      <th>ExcessSelected</th>\n",
              "      <th>CoverCategory</th>\n",
              "      <th>CoverType</th>\n",
              "      <th>CoverGroup</th>\n",
              "      <th>Section</th>\n",
              "      <th>Product</th>\n",
              "      <th>StatutoryClass</th>\n",
              "      <th>StatutoryRiskType</th>\n",
              "      <th>TotalPremium</th>\n",
              "      <th>TotalClaims</th>\n",
              "    </tr>\n",
              "  </thead>\n",
              "  <tbody>\n",
              "    <tr>\n",
              "      <th>0</th>\n",
              "      <td>145249</td>\n",
              "      <td>12827</td>\n",
              "      <td>2015-03-01 00:00:00</td>\n",
              "      <td>True</td>\n",
              "      <td></td>\n",
              "      <td>Close Corporation</td>\n",
              "      <td>Mr</td>\n",
              "      <td>English</td>\n",
              "      <td>First National Bank</td>\n",
              "      <td>Current account</td>\n",
              "      <td>Not specified</td>\n",
              "      <td>Not specified</td>\n",
              "      <td>South Africa</td>\n",
              "      <td>Gauteng</td>\n",
              "      <td>1459</td>\n",
              "      <td>Rand East</td>\n",
              "      <td>Rand East</td>\n",
              "      <td>Mobility - Motor</td>\n",
              "      <td>44069150.0</td>\n",
              "      <td>Passenger Vehicle</td>\n",
              "      <td>2004</td>\n",
              "      <td>MERCEDES-BENZ</td>\n",
              "      <td>E 240</td>\n",
              "      <td>6.0</td>\n",
              "      <td>2597.0</td>\n",
              "      <td>130.0</td>\n",
              "      <td>S/D</td>\n",
              "      <td>4.0</td>\n",
              "      <td>6/2002</td>\n",
              "      <td>119300.0</td>\n",
              "      <td>Yes</td>\n",
              "      <td>No</td>\n",
              "      <td>119300.0</td>\n",
              "      <td>More than 6 months</td>\n",
              "      <td>NaN</td>\n",
              "      <td>NaN</td>\n",
              "      <td>NaN</td>\n",
              "      <td>NaN</td>\n",
              "      <td>NaN</td>\n",
              "      <td>0.01</td>\n",
              "      <td>Monthly</td>\n",
              "      <td>25.0</td>\n",
              "      <td>Mobility - Windscreen</td>\n",
              "      <td>Windscreen</td>\n",
              "      <td>Windscreen</td>\n",
              "      <td>Comprehensive - Taxi</td>\n",
              "      <td>Motor Comprehensive</td>\n",
              "      <td>Mobility Metered Taxis: Monthly</td>\n",
              "      <td>Commercial</td>\n",
              "      <td>IFRS Constant</td>\n",
              "      <td>21.929825</td>\n",
              "      <td>0.0</td>\n",
              "    </tr>\n",
              "    <tr>\n",
              "      <th>1</th>\n",
              "      <td>145249</td>\n",
              "      <td>12827</td>\n",
              "      <td>2015-05-01 00:00:00</td>\n",
              "      <td>True</td>\n",
              "      <td></td>\n",
              "      <td>Close Corporation</td>\n",
              "      <td>Mr</td>\n",
              "      <td>English</td>\n",
              "      <td>First National Bank</td>\n",
              "      <td>Current account</td>\n",
              "      <td>Not specified</td>\n",
              "      <td>Not specified</td>\n",
              "      <td>South Africa</td>\n",
              "      <td>Gauteng</td>\n",
              "      <td>1459</td>\n",
              "      <td>Rand East</td>\n",
              "      <td>Rand East</td>\n",
              "      <td>Mobility - Motor</td>\n",
              "      <td>44069150.0</td>\n",
              "      <td>Passenger Vehicle</td>\n",
              "      <td>2004</td>\n",
              "      <td>MERCEDES-BENZ</td>\n",
              "      <td>E 240</td>\n",
              "      <td>6.0</td>\n",
              "      <td>2597.0</td>\n",
              "      <td>130.0</td>\n",
              "      <td>S/D</td>\n",
              "      <td>4.0</td>\n",
              "      <td>6/2002</td>\n",
              "      <td>119300.0</td>\n",
              "      <td>Yes</td>\n",
              "      <td>No</td>\n",
              "      <td>119300.0</td>\n",
              "      <td>More than 6 months</td>\n",
              "      <td>NaN</td>\n",
              "      <td>NaN</td>\n",
              "      <td>NaN</td>\n",
              "      <td>NaN</td>\n",
              "      <td>NaN</td>\n",
              "      <td>0.01</td>\n",
              "      <td>Monthly</td>\n",
              "      <td>25.0</td>\n",
              "      <td>Mobility - Windscreen</td>\n",
              "      <td>Windscreen</td>\n",
              "      <td>Windscreen</td>\n",
              "      <td>Comprehensive - Taxi</td>\n",
              "      <td>Motor Comprehensive</td>\n",
              "      <td>Mobility Metered Taxis: Monthly</td>\n",
              "      <td>Commercial</td>\n",
              "      <td>IFRS Constant</td>\n",
              "      <td>21.929825</td>\n",
              "      <td>0.0</td>\n",
              "    </tr>\n",
              "  </tbody>\n",
              "</table>\n",
              "</div>"
            ],
            "text/plain": [
              "   UnderwrittenCoverID  PolicyID     TransactionMonth  IsVATRegistered  \\\n",
              "0               145249     12827  2015-03-01 00:00:00             True   \n",
              "1               145249     12827  2015-05-01 00:00:00             True   \n",
              "\n",
              "  Citizenship          LegalType Title Language                 Bank  \\\n",
              "0              Close Corporation    Mr  English  First National Bank   \n",
              "1              Close Corporation    Mr  English  First National Bank   \n",
              "\n",
              "       AccountType  MaritalStatus         Gender       Country Province  \\\n",
              "0  Current account  Not specified  Not specified  South Africa  Gauteng   \n",
              "1  Current account  Not specified  Not specified  South Africa  Gauteng   \n",
              "\n",
              "   PostalCode MainCrestaZone SubCrestaZone          ItemType      mmcode  \\\n",
              "0        1459      Rand East     Rand East  Mobility - Motor  44069150.0   \n",
              "1        1459      Rand East     Rand East  Mobility - Motor  44069150.0   \n",
              "\n",
              "         VehicleType  RegistrationYear           make  Model  Cylinders  \\\n",
              "0  Passenger Vehicle              2004  MERCEDES-BENZ  E 240        6.0   \n",
              "1  Passenger Vehicle              2004  MERCEDES-BENZ  E 240        6.0   \n",
              "\n",
              "   cubiccapacity  kilowatts bodytype  NumberOfDoors VehicleIntroDate  \\\n",
              "0         2597.0      130.0      S/D            4.0           6/2002   \n",
              "1         2597.0      130.0      S/D            4.0           6/2002   \n",
              "\n",
              "   CustomValueEstimate AlarmImmobiliser TrackingDevice  CapitalOutstanding  \\\n",
              "0             119300.0              Yes             No            119300.0   \n",
              "1             119300.0              Yes             No            119300.0   \n",
              "\n",
              "           NewVehicle WrittenOff Rebuilt Converted CrossBorder  \\\n",
              "0  More than 6 months        NaN     NaN       NaN         NaN   \n",
              "1  More than 6 months        NaN     NaN       NaN         NaN   \n",
              "\n",
              "   NumberOfVehiclesInFleet  SumInsured TermFrequency  \\\n",
              "0                      NaN        0.01       Monthly   \n",
              "1                      NaN        0.01       Monthly   \n",
              "\n",
              "   CalculatedPremiumPerTerm         ExcessSelected CoverCategory   CoverType  \\\n",
              "0                      25.0  Mobility - Windscreen    Windscreen  Windscreen   \n",
              "1                      25.0  Mobility - Windscreen    Windscreen  Windscreen   \n",
              "\n",
              "             CoverGroup              Section                          Product  \\\n",
              "0  Comprehensive - Taxi  Motor Comprehensive  Mobility Metered Taxis: Monthly   \n",
              "1  Comprehensive - Taxi  Motor Comprehensive  Mobility Metered Taxis: Monthly   \n",
              "\n",
              "  StatutoryClass StatutoryRiskType  TotalPremium  TotalClaims  \n",
              "0     Commercial     IFRS Constant     21.929825          0.0  \n",
              "1     Commercial     IFRS Constant     21.929825          0.0  "
            ]
          },
          "execution_count": 34,
          "metadata": {},
          "output_type": "execute_result"
        }
      ],
      "source": [
        "df = pd.read_csv(DATA_PATH, delimiter='|')\n",
        "# df = pd.read_csv(DATA_PATH)\n",
        "df.head(2)"
      ]
    },
    {
      "cell_type": "markdown",
      "metadata": {},
      "source": [
        "## <font color = '#DF9166' size=6>**Class Initialization**<font/><a class = 'anchor' id = 'class_initialization'/>"
      ]
    },
    {
      "cell_type": "code",
      "execution_count": 54,
      "metadata": {},
      "outputs": [],
      "source": [
        "# Initialize the ABHypothesisTester class\n",
        "ab_tester = ABHypothesisTester(df)"
      ]
    },
    {
      "cell_type": "markdown",
      "metadata": {},
      "source": [
        "## <font color = '#DF9166' size=6>**Province Risk Difference Analysis**<font/><a class = 'anchor' id = 'province_analysis'/>"
      ]
    },
    {
      "cell_type": "markdown",
      "metadata": {},
      "source": [
        "\n",
        "### Hypotheses\n",
        "- **Null Hypothesis (H₀):** No risk differences across provinces.\n",
        "- **Alternative Hypothesis (H₁):** Risk differences exist across provinces."
      ]
    },
    {
      "cell_type": "code",
      "execution_count": 47,
      "metadata": {},
      "outputs": [
        {
          "data": {
            "text/plain": [
              "{'Test Type': 'ANOVA',\n",
              " 'Category': 'Province',\n",
              " 'Measure': 'TotalClaims',\n",
              " 'F-Statistic': 5.8494137624076075,\n",
              " 'p-Value': 1.6782057588675903e-07,\n",
              " 'Reject Null': True}"
            ]
          },
          "execution_count": 47,
          "metadata": {},
          "output_type": "execute_result"
        }
      ],
      "source": [
        "ab_tester.analyze_province_risk()"
      ]
    },
    {
      "cell_type": "markdown",
      "metadata": {},
      "source": [
        "### Conclusion\n",
        "\n",
        "- **Outcome**: Risk differences across provinces are statistically significant (\\(p < 0.05\\)).  \n",
        "- **Insight**: \n",
        "    - Variability in provincial claims suggests underlying factors like regional risk profiles or policy differences.\n",
        "    - Focus on province-specific risk mitigation strategies to optimize outcomes."
      ]
    },
    {
      "cell_type": "markdown",
      "metadata": {},
      "source": [
        "## <font color = '#DF9166' size=6>**Gender Risk Difference Analysis**<font/><a class = 'anchor' id = 'gender_analysis'/>"
      ]
    },
    {
      "cell_type": "markdown",
      "metadata": {},
      "source": [
        "### Hypotheses\n",
        "- **Null Hypothesis (H₀):** No significant risk differences between women and men.\n",
        "- **Alternative Hypothesis (H₁):** Significant risk differences exist between women and men."
      ]
    },
    {
      "cell_type": "code",
      "execution_count": 58,
      "metadata": {},
      "outputs": [
        {
          "data": {
            "text/plain": [
              "{'Test Type': 'T-Test',\n",
              " 'Category': 'Gender',\n",
              " 'Measure': 'TotalClaims',\n",
              " 'Groups Compared': ('Male', 'Female'),\n",
              " 'T-Statistic': -0.296353891400699,\n",
              " 'p-Value': 0.7669656471629474,\n",
              " 'Reject Null': False}"
            ]
          },
          "execution_count": 58,
          "metadata": {},
          "output_type": "execute_result"
        }
      ],
      "source": [
        "ab_tester.analyze_gender_risk()"
      ]
    },
    {
      "cell_type": "markdown",
      "metadata": {},
      "source": [
        "### Conclusion  \n",
        "\n",
        "- **Outcome**: No statistically significant differences in total claims between genders (\\(p > 0.05\\)).  \n",
        "- **Insight**: \n",
        "    - Risk levels are comparable between male and female policyholders, suggesting no gender bias in claims.  \n",
        "    - Continue with gender-neutral risk assessment and pricing strategies.  "
      ]
    },
    {
      "cell_type": "markdown",
      "metadata": {},
      "source": [
        "## <font color = '#DF9166' size=6>**Postal Code Risk Difference Analysis**<font/><a class = 'anchor' id = 'province_analysis'/>"
      ]
    },
    {
      "cell_type": "markdown",
      "metadata": {},
      "source": [
        "### Hypotheses\n",
        "- **Null Hypothesis (H₀):** No risk differences between postal codes.\n",
        "- **Alternative Hypothesis (H₁):** Risk differences exist between postal codes."
      ]
    },
    {
      "cell_type": "code",
      "execution_count": 57,
      "metadata": {},
      "outputs": [
        {
          "data": {
            "text/plain": [
              "{'Test Type': 'ANOVA',\n",
              " 'Category': 'PostalCode',\n",
              " 'Measure': 'TotalClaims',\n",
              " 'F-Statistic': 0.9419762214391849,\n",
              " 'p-Value': 0.8906511279164051,\n",
              " 'Reject Null': False}"
            ]
          },
          "execution_count": 57,
          "metadata": {},
          "output_type": "execute_result"
        }
      ],
      "source": [
        "ab_tester.analyze_zipcode_risk()"
      ]
    },
    {
      "cell_type": "markdown",
      "metadata": {},
      "source": [
        "### Conclusion  \n",
        "\n",
        "- **Outcome**: No statistically significant differences in total claims across postal codes (\\(p > 0.05\\)).  \n",
        "- **Insight**: \n",
        "    - Total claims are consistent across regions, indicating uniform risk levels regardless of location.\n",
        "    - Maintain current underwriting and risk assessment policies, as postal code does not influence claim variations.  "
      ]
    },
    {
      "cell_type": "markdown",
      "metadata": {},
      "source": [
        "## <font color = '#DF9166' size=6>**Postal Code Margin Difference Analysis**<font/><a class = 'anchor' id = 'province_analysis'/>"
      ]
    },
    {
      "cell_type": "markdown",
      "metadata": {},
      "source": [
        "### Hypotheses\n",
        "- **Null Hypothesis (H₀):** No significant margin differences between postal codes.\n",
        "- **Alternative Hypothesis (H₁):** Significant margin differences exist between postal codes."
      ]
    },
    {
      "cell_type": "code",
      "execution_count": 55,
      "metadata": {},
      "outputs": [
        {
          "data": {
            "text/plain": [
              "{'Test Type': 'ANOVA',\n",
              " 'Category': 'PostalCode',\n",
              " 'Measure': 'Margin',\n",
              " 'F-Statistic': 0.8707474893589263,\n",
              " 'p-Value': 0.9976859758015036,\n",
              " 'Reject Null': False}"
            ]
          },
          "execution_count": 55,
          "metadata": {},
          "output_type": "execute_result"
        }
      ],
      "source": [
        "ab_tester.analyze_zipcode_margin()"
      ]
    },
    {
      "cell_type": "markdown",
      "metadata": {},
      "source": [
        "### Conclusion\n",
        "\n",
        "- **Outcome**: No statistically significant differences in profit margins across postal codes (\\(p > 0.05\\)).  \n",
        "- **Insight**: \n",
        "    - Margins are consistent across regions, indicating uniform profitability regardless of location.  \n",
        "    - Maintain current pricing and operational strategies as postal code does not influence margin variations.  "
      ]
    }
  ],
  "metadata": {
    "colab": {
      "provenance": []
    },
    "kernelspec": {
      "display_name": "w3-env",
      "language": "python",
      "name": "python3"
    },
    "language_info": {
      "codemirror_mode": {
        "name": "ipython",
        "version": 3
      },
      "file_extension": ".py",
      "mimetype": "text/x-python",
      "name": "python",
      "nbconvert_exporter": "python",
      "pygments_lexer": "ipython3",
      "version": "3.10.16"
    }
  },
  "nbformat": 4,
  "nbformat_minor": 0
}
